{
 "cells": [
  {
   "cell_type": "code",
   "execution_count": 42,
   "metadata": {},
   "outputs": [],
   "source": [
    "import numpy as np\n",
    "\n",
    "#problem1\n",
    "#define the function to compute optimal slope value \n",
    "def compute_slope_estimator(x, y):\n",
    "    x_bar = np.average(x)\n",
    "    y_bar = np.average(y)\n",
    "    n = x.shape[0]\n",
    "    numerator = np.dot(x, y) - n * x_bar * y_bar\n",
    "    denominator = np.dot(x, x) - n * np.square(x_bar)\n",
    "    \n",
    "    #calculate the optimal slope\n",
    "    a = numerator/denominator\n",
    "    return a \n"
   ]
  },
  {
   "cell_type": "code",
   "execution_count": 43,
   "metadata": {},
   "outputs": [],
   "source": [
    "#problem 2\n",
    "#define the function to compute the optimal intercept value\n",
    "def compute_intercept_estimator(x, y):\n",
    "    a = compute_slope_estimator(x, y)\n",
    "    x_bar = np.average(x)\n",
    "    y_bar = np.average(y)\n",
    "    \n",
    "    #calculate the optimal intercept\n",
    "    b = y_bar - a * x_bar\n",
    "    return b\n",
    "    "
   ]
  },
  {
   "cell_type": "code",
   "execution_count": 44,
   "metadata": {},
   "outputs": [],
   "source": [
    "#problem 3\n",
    "#define the function to train model using input data\n",
    "def train_model(x, y):\n",
    "    a = compute_slope_estimator(x, y)\n",
    "    b = compute_intercept_estimator(x, y)\n",
    "    \n",
    "    tup = (a, b)\n",
    "    return tuple\n"
   ]
  },
  {
   "cell_type": "code",
   "execution_count": 45,
   "metadata": {},
   "outputs": [],
   "source": [
    "#problem4\n",
    "#define the function to get y values from the generative model \n",
    "def sample_linear_model(x_vals, a, b, sd):\n",
    "    n = x_vals.shape[0]\n",
    "    y = np.zeros(n)\n",
    "    e = np.random.normal(0, sd, n)\n",
    "    \n",
    "    #get y's values \n",
    "    for i in range(n):\n",
    "        y[i] = a * x_vals[i] + b + e[i]\n",
    "        \n",
    "    #return y \n",
    "    return y\n",
    "\n",
    "\n"
   ]
  },
  {
   "cell_type": "code",
   "execution_count": 46,
   "metadata": {},
   "outputs": [],
   "source": [
    "#problem 5\n",
    "#define the function to get a list of n sampled datasets \n",
    "def sample_datasets(x_vals, a, b, sd, n):\n",
    "    ls = []\n",
    "    \n",
    "    #build the list of n datasets \n",
    "    for i in range(n):\n",
    "        y_vals = sample_linear_model(x_vals, a, b, sd)\n",
    "        ls.append(y_vals)\n",
    "    \n",
    "    #return the list of datasets // a list of arrays containing y values \n",
    "    return ls\n"
   ]
  },
  {
   "cell_type": "code",
   "execution_count": 47,
   "metadata": {},
   "outputs": [],
   "source": [
    "#problem 6\n",
    "#define the function to compute the average estimated slope\n",
    "def compute_average_estimated_slope(x_vals):\n",
    "    ls_a = []\n",
    "    ls_y = sample_datasets(x_vals, 1, 1, 1, 1000)\n",
    "    \n",
    "    #compute the slope estimator\n",
    "    for i in range(1000):\n",
    "        a = compute_slope_estimator(x_vals, ls_y[i])\n",
    "        ls_a.append(a)\n",
    "        \n",
    "    \n",
    "    #compute the average of estimated slope\n",
    "    average_a = sum(ls_a)/len(ls_a)\n",
    "    \n",
    "    return average_a\n",
    "\n"
   ]
  },
  {
   "cell_type": "code",
   "execution_count": 49,
   "metadata": {},
   "outputs": [
    {
     "name": "stdout",
     "output_type": "stream",
     "text": [
      "[0.994829212329086, 0.9899567063400891, 0.9918634572065034]\n"
     ]
    }
   ],
   "source": [
    "#problem 7\n",
    "#compute the average estimated slope for different values of x_vals\n",
    "ls_a = []\n",
    "\n",
    "x_vals1 = np.linspace(0, 1, num=5)\n",
    "a1 = compute_average_estimated_slope(x_vals1)\n",
    "ls_a.append(a1)\n",
    "\n",
    "x_vals2 = np.linspace(0, 1, num=100)\n",
    "a2 = compute_average_estimated_slope(x_vals2)\n",
    "ls_a.append(a2)\n",
    "\n",
    "x_vals3 = np.linspace(0, 1, num=1000)\n",
    "a3 = compute_average_estimated_slope(x_vals3)\n",
    "ls_a.append(a3)\n",
    "\n",
    "print(ls_a)\n",
    "    \n",
    "    "
   ]
  },
  {
   "cell_type": "code",
   "execution_count": 48,
   "metadata": {},
   "outputs": [],
   "source": [
    "#Answer to question 7: When the number of x_vals increases, the estimated slope tend to \n",
    "#be closer to the true slope. The reason is that slope estimator tends to be more accurate\n",
    "#when n(number of x_vals) is large"
   ]
  },
  {
   "cell_type": "code",
   "execution_count": 50,
   "metadata": {},
   "outputs": [],
   "source": [
    "#problem 8\n",
    "#define the functin to compute average squared error\n",
    "def compute_estimated_slope_error(x_vals):\n",
    "    ls_a = []\n",
    "    ls_squar = []\n",
    "    ls_y = sample_datasets(x_vals, 1, 1, 1, 1000)\n",
    "    \n",
    "    #compute the slope estimator\n",
    "    for i in range(1000):\n",
    "        a = compute_slope_estimator(x_vals, ls_y[i])\n",
    "        ls_a.append(a)\n",
    "        \n",
    "    \n",
    "    #compute the average squared error\n",
    "    for i in range(1000):\n",
    "        squar = (1 - ls_a[i]) * (1 - ls_a[i])\n",
    "        ls_squar.append(squar)\n",
    "    \n",
    "    average_squared_error_estimated_slope = sum(ls_squar)/len(ls_squar)\n",
    "    \n",
    "    return average_squared_error_estimated_slope\n"
   ]
  },
  {
   "cell_type": "code",
   "execution_count": 51,
   "metadata": {},
   "outputs": [
    {
     "name": "stdout",
     "output_type": "stream",
     "text": [
      "[1.6807914719396964, 0.11058047803047509, 0.012378659613540965]\n"
     ]
    }
   ],
   "source": [
    "#problem 8 test with different values of x_vals\n",
    "ls_average_squared_error_estimated_slope = []\n",
    "\n",
    "x_vals1 = np.linspace(0, 1, num=5)\n",
    "a1 = compute_estimated_slope_error(x_vals1)\n",
    "ls_average_squared_error_estimated_slope.append(a1)\n",
    "\n",
    "x_vals2 = np.linspace(0, 1, num=100)\n",
    "a2 = compute_estimated_slope_error(x_vals2)\n",
    "ls_average_squared_error_estimated_slope.append(a2)\n",
    "\n",
    "x_vals3 = np.linspace(0, 1, num=1000)\n",
    "a3 = compute_estimated_slope_error(x_vals3)\n",
    "ls_average_squared_error_estimated_slope.append(a3)\n",
    "\n",
    "print(ls_average_squared_error_estimated_slope)\n",
    "    "
   ]
  },
  {
   "cell_type": "code",
   "execution_count": 52,
   "metadata": {},
   "outputs": [],
   "source": [
    "#Answer to problem 8\n",
    "#As n increases, the average squared error decreases. The reason is that the estimators for slope and intercept\n",
    "#tends to be more accurate when the n(number of x_vals) is large. "
   ]
  },
  {
   "cell_type": "code",
   "execution_count": 53,
   "metadata": {},
   "outputs": [
    {
     "data": {
      "image/png": "[encoded data removed]",
      "text/plain": [
       "<Figure size 432x288 with 1 Axes>"
      ]
     },
     "metadata": {
      "needs_background": "light"
     },
     "output_type": "display_data"
    },
    {
     "data": {
      "image/png": "[encoded data removed]",
      "text/plain": [
       "<Figure size 432x288 with 1 Axes>"
      ]
     },
     "metadata": {
      "needs_background": "light"
     },
     "output_type": "display_data"
    },
    {
     "data": {
      "image/png": "[encoded data removed]",
      "text/plain": [
       "<Figure size 432x288 with 1 Axes>"
      ]
     },
     "metadata": {
      "needs_background": "light"
     },
     "output_type": "display_data"
    },
    {
     "data": {
      "text/plain": [
       "<Figure size 432x288 with 0 Axes>"
      ]
     },
     "metadata": {},
     "output_type": "display_data"
    }
   ],
   "source": [
    "#problem 9\n",
    "import matplotlib.pyplot as plt\n",
    "\n",
    "#first trial\n",
    "ls_a_1 = []               #create numpy to store estimated slope\n",
    "x_vals_1 = np.linspace(0, 1, num=5)     #try different size and values of x_vals\n",
    "ls_y_1 = sample_datasets(x_vals_1, 1, 1, 1, 1000)\n",
    "    \n",
    "#compute the slope estimator\n",
    "for i in range(1000):\n",
    "    a = compute_slope_estimator(x_vals_1, ls_y_1[i])\n",
    "    ls_a_1.append(a)\n",
    "\n",
    "    \n",
    "#second trial\n",
    "ls_a_2 = []               #create numpy to store estimated slope\n",
    "x_vals_2 = np.linspace(0, 1, num=100)   #try different size and values of x_vals\n",
    "ls_y_2 = sample_datasets(x_vals_2, 1, 1, 1, 1000)\n",
    "    \n",
    "#compute the slope estimator\n",
    "for i in range(1000):\n",
    "    a = compute_slope_estimator(x_vals_2, ls_y_2[i])\n",
    "    ls_a_2.append(a)\n",
    "\n",
    "    \n",
    "#third trial\n",
    "ls_a_3 = []               #create numpy to store estimated slope\n",
    "x_vals_3 = np.linspace(0, 1, num=1000)   #try different size and values of x_vals\n",
    "ls_y_3 = sample_datasets(x_vals_3, 1, 1, 1, 1000)\n",
    "    \n",
    "#compute the slope estimator\n",
    "for i in range(1000):\n",
    "    a = compute_slope_estimator(x_vals_3, ls_y_3[i])\n",
    "    ls_a_3.append(a)\n",
    "\n",
    "     \n",
    "    \n",
    "#draw the histogram\n",
    "array_a_1 = np.array(ls_a_1)\n",
    "plt.hist(array_a_1)\n",
    "plt.show()\n",
    "plt.savefig(\"9_1.png\")\n",
    "    \n",
    "array_a_2 = np.array(ls_a_2)\n",
    "plt.hist(array_a_2)\n",
    "plt.show()\n",
    "plt.savefig(\"9_2.png\")\n",
    "\n",
    "array_a_3 = np.array(ls_a_3)\n",
    "plt.hist(array_a_3)\n",
    "plt.show()    \n",
    "plt.savefig(\"9_3.png\")\n"
   ]
  },
  {
   "cell_type": "code",
   "execution_count": 54,
   "metadata": {},
   "outputs": [],
   "source": [
    "#Answer to problem 9:\n",
    "#As number of x_vals increases, more slope estimates concentrate around\n",
    "#the true slope which is 1. The reason is that slope estimator tends to be more accurate when n(number of x_vals)\n",
    "#is large "
   ]
  },
  {
   "cell_type": "code",
   "execution_count": 55,
   "metadata": {},
   "outputs": [],
   "source": [
    "#Problem10\n",
    "#define function to calculate prediction error\n",
    "def calculate_prediction_error(y, y_hat):\n",
    "    n = y.shape[0]      #get the size of the array\n",
    "    \n",
    "    #calculate the prediction error\n",
    "    ls_squar = []\n",
    "    \n",
    "    for i in range(n):\n",
    "        squar = (y[i] - y_hat[i]) * (y[i] - y_hat[i])\n",
    "        ls_squar.append(squar)\n",
    "\n",
    "    prediction_error = sum(ls_squar)/n\n",
    "    \n",
    "    return prediction_error\n"
   ]
  },
  {
   "cell_type": "code",
   "execution_count": 61,
   "metadata": {},
   "outputs": [],
   "source": [
    "#Problem 11\n",
    "#define the function to calculate the average training set error\n",
    "def average_training_set_error(x_vals):\n",
    "    ls_y = sample_datasets(x_vals, 1, 1, 1, 1000)  #sample y\n",
    "    ls_y_hat = []        #list to store estimated y\n",
    "    ls_a_hat = []        #list to store slope estimator\n",
    "    ls_b_hat = []        #list to store intercept estimator\n",
    "    \n",
    "    #compute slope and intercept estimator\n",
    "    for i in range(1000):\n",
    "        a_hat = compute_slope_estimator(x_vals, ls_y[i])\n",
    "        b_hat = compute_intercept_estimator(x_vals, ls_y[i])\n",
    "        ls_a_hat.append(a_hat)     #store slope estimator\n",
    "        ls_b_hat.append(b_hat)    #store intercept estimator\n",
    "    \n",
    "    #compute estimated y\n",
    "    n = x_vals.shape[0]\n",
    "    for i in range(1000):\n",
    "        ls_y_hat_sub = []\n",
    "        for j in range(n):\n",
    "            y_hat = ls_a_hat[i] * x_vals[j] + ls_b_hat[i]\n",
    "            ls_y_hat_sub.append(y_hat)\n",
    "        \n",
    "        array_y_hat = np.array(ls_y_hat_sub)\n",
    "        ls_y_hat.append(array_y_hat)\n",
    "    \n",
    "    \n",
    "    #calculate prediction error\n",
    "    ls_pi = []              #list to store pi\n",
    "    for i in range(1000):\n",
    "        prediction_error = calculate_prediction_error(ls_y[i], ls_y_hat[i])\n",
    "        ls_pi.append(prediction_error)\n",
    "        \n",
    "    average_error = sum(ls_pi)/len(ls_pi)\n",
    "    return average_error\n",
    "    \n",
    "        \n",
    "    \n",
    "            \n",
    "    \n",
    "       \n",
    "        \n",
    "        \n",
    "        \n",
    "        "
   ]
  },
  {
   "cell_type": "code",
   "execution_count": 60,
   "metadata": {},
   "outputs": [
    {
     "name": "stdout",
     "output_type": "stream",
     "text": [
      "0.5860283674958423\n",
      "0.9832899200875935\n",
      "0.9981184824205734\n"
     ]
    }
   ],
   "source": [
    "#Problem 11\n",
    "#first trial \n",
    "x_vals = np.linspace(0, 1, num = 5)\n",
    "print(average_training_set_error(x_vals))\n",
    "\n",
    "#second trial \n",
    "x_vals = np.linspace(0, 1, num = 100)\n",
    "print(average_training_set_error(x_vals))\n",
    "\n",
    "\n",
    "#third trial \n",
    "x_vals = np.linspace(0, 1, num = 1000)\n",
    "print(average_training_set_error(x_vals))"
   ]
  },
  {
   "cell_type": "code",
   "execution_count": 57,
   "metadata": {},
   "outputs": [],
   "source": [
    "#Answer to problem 11\n",
    "#As number of elements in x_vals increases, the average prediction error approaches 1. The reason is that when we \n",
    "#sample from y, we set the error's standard deviation to 1. "
   ]
  },
  {
   "cell_type": "code",
   "execution_count": 70,
   "metadata": {},
   "outputs": [],
   "source": [
    "#define the function to calculate the average value of the errors \n",
    "#by testing the linear model against data other than those used to \n",
    "#build the model\n",
    "#output a single value of average value of the errors \n",
    "\n",
    "\n",
    "def average_test_set_error(x_vals): \n",
    "    ls_y = sample_datasets(x_vals, 1, 1, 1, 1000)          #return a list containing 1000 arrays of y\n",
    "    n = x_vals.shape[0]                                    #get the size of the x_vals array\n",
    "    array_y = sample_linear_model(x_vals, 1, 1, 1)         #build one test set for every training set\n",
    "    sum = 0                                                #initialize sum to calculate prediction error\n",
    "    \n",
    "    for each in ls_y:\n",
    "        a_hat = compute_slope_estimator(x_vals, each)\n",
    "        b_hat = compute_intercept_estimator(x_vals, each)\n",
    "        \n",
    "        #get an array of y_hat\n",
    "        array_y_hat = np.zeros(n)\n",
    "        for i in range(n):\n",
    "            array_y_hat[i] = a_hat * x_vals[i] + b_hat\n",
    "        \n",
    "        prediction_error = calculate_prediction_error(array_y, array_y_hat)\n",
    "        sum = sum + prediction_error\n",
    "    \n",
    "    average_prediction_error = sum/1000\n",
    "    return average_prediction_error\n",
    "        \n",
    "        "
   ]
  },
  {
   "cell_type": "code",
   "execution_count": 75,
   "metadata": {},
   "outputs": [
    {
     "name": "stdout",
     "output_type": "stream",
     "text": [
      "1.5716418186633068\n",
      "0.9060201127184658\n",
      "0.9750786861834995\n"
     ]
    }
   ],
   "source": [
    "#Problem 12\n",
    "#first trial \n",
    "x_vals = np.linspace(0, 1, num = 5)\n",
    "print(average_test_set_error(x_vals))\n",
    "\n",
    "#second trial \n",
    "x_vals = np.linspace(0, 1, num = 100)\n",
    "print(average_test_set_error(x_vals))\n",
    "\n",
    "\n",
    "#third trial \n",
    "x_vals = np.linspace(0, 1, num = 1000)\n",
    "print(average_test_set_error(x_vals))"
   ]
  },
  {
   "cell_type": "code",
   "execution_count": 59,
   "metadata": {},
   "outputs": [],
   "source": [
    "#The test set prediction error is more random than the average training\n",
    "#set prediction error. The average test set prediction error sometimes is \n",
    "#larger than 1, and sometimes is smaller than 1. The reason is that we \n",
    "#test our models on the test set instead of training set.\n",
    "#As the number of elements in x_vals increases, the average test set prediction\n",
    "#error generally tends to 1. The reason is that we set the standard deviation \n",
    "#to 1 when we sample from y and the estimator tends to be more accurate when\n",
    "#n(number of x_vals) is large. "
   ]
  }
 ],
 "metadata": {
  "kernelspec": {
   "display_name": "Python [conda env:lign167]",
   "language": "python",
   "name": "conda-env-lign167-py"
  },
  "language_info": {
   "codemirror_mode": {
    "name": "ipython",
    "version": 3
   },
   "file_extension": ".py",
   "mimetype": "text/x-python",
   "name": "python",
   "nbconvert_exporter": "python",
   "pygments_lexer": "ipython3",
   "version": "3.6.6"
  }
 },
 "nbformat": 4,
 "nbformat_minor": 2
}
